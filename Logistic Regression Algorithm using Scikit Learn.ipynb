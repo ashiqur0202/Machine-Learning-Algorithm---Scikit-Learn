{
 "cells": [
  {
   "cell_type": "markdown",
   "id": "558484bb",
   "metadata": {},
   "source": [
    "# Logistic Regression Algorithm using Scikit Learn"
   ]
  },
  {
   "cell_type": "markdown",
   "id": "a855dc4a",
   "metadata": {},
   "source": [
    "__What is Logistic Regression and when should you use it?__\n",
    "\n",
    "Logistic Regression is a type of supervised machine learning algorithm that is used for classification problems. It is a statistical method that is used to fit a regression model to a set of binary data.\n",
    "\n",
    "The logistic regression model is a linear model that uses a logistic function (also called the sigmoid function) to map the input features to a value between 0 and 1, which can be interpreted as the probability of the input belonging to a certain class. Based on this probability, the logistic regression model makes a prediction about the class of the input.\n",
    "\n",
    "The logistic regression algorithm is particularly useful when you want to predict a binary outcome (e.g. yes/no, true/false, 0/1) based on a set of input features. It is a simple and interpretable model that can be easily regularized to avoid overfitting. Additionally, it is easy to implement and computationally efficient.\n",
    "\n",
    "Logistic Regression is commonly used in:\n",
    "\n",
    "- Medical field, to predict patient outcomes based on their medical history and other factors\n",
    "- Marketing, to predict the likelihood of a customer purchasing a product or service\n",
    "- Credit risk analysis, to predict the likelihood of a loan applicant defaulting on a loan\n",
    "- Natural Language Processing, to classify text into different categories\n",
    "\n",
    "It is important to note that Logistic Regression is not suitable for highly non-linear decision boundaries, in that case, other models like Random Forest, SVM, etc should be considered."
   ]
  },
  {
   "cell_type": "markdown",
   "id": "e08e1d72",
   "metadata": {},
   "source": [
    "__When we shouldn't use Logistic Regression Algorithm?__\n",
    "\n",
    "There are several situations where logistic regression may not be the best choice of algorithm:\n",
    "\n",
    "__Non-linear decision boundaries:__ Logistic regression is a linear model, and it may not be able to accurately capture non-linear relationships between the input features and the output. In cases where the decision boundary is highly non-linear, other algorithms such as decision trees, random forests, or support vector machines may be more appropriate.\n",
    "\n",
    "__Multi-class classification problems:__ Logistic regression is primarily used for binary classification problems, where the output can take on only two possible values. If you have a multi-class classification problem (i.e. more than two possible output classes), you may want to consider using other algorithms such as one-vs-all logistic regression, decision trees or Random Forest.\n",
    "\n",
    "__High-dimensional data:__ Logistic regression can become computationally expensive and inefficient when dealing with high-dimensional data (i.e. a large number of input features). In these cases, algorithms such as linear discriminant analysis (LDA) or regularized linear models may be more appropriate.\n",
    "\n",
    "__Large number of categorical variables:__ Logistic regression assumes that all input features are numerical, and it may not be able to handle categorical variables with a large number of categories. In these cases, algorithms such as decision trees or Random Forest may be more appropriate.\n",
    "\n",
    "__Large number of missing values:__ Logistic regression can be sensitive to missing data, and it may not work well when there is a large number of missing values in the input data. In these cases, algorithms such as Random Forest or XGBoost may be more appropriate.\n",
    "\n",
    "It's always important to consider the characteristics of your data and problem in order to choose the most appropriate algorithm."
   ]
  },
  {
   "cell_type": "code",
   "execution_count": 1,
   "id": "cb6ba9eb",
   "metadata": {},
   "outputs": [],
   "source": [
    "from sklearn import datasets\n",
    "from sklearn.linear_model import LogisticRegression\n",
    "from sklearn.model_selection import train_test_split\n",
    "from sklearn.metrics import accuracy_score"
   ]
  },
  {
   "cell_type": "code",
   "execution_count": 2,
   "id": "5bd48941",
   "metadata": {},
   "outputs": [
    {
     "data": {
      "text/plain": [
       "{'data': array([[5.1, 3.5, 1.4, 0.2],\n",
       "        [4.9, 3. , 1.4, 0.2],\n",
       "        [4.7, 3.2, 1.3, 0.2],\n",
       "        [4.6, 3.1, 1.5, 0.2],\n",
       "        [5. , 3.6, 1.4, 0.2],\n",
       "        [5.4, 3.9, 1.7, 0.4],\n",
       "        [4.6, 3.4, 1.4, 0.3],\n",
       "        [5. , 3.4, 1.5, 0.2],\n",
       "        [4.4, 2.9, 1.4, 0.2],\n",
       "        [4.9, 3.1, 1.5, 0.1],\n",
       "        [5.4, 3.7, 1.5, 0.2],\n",
       "        [4.8, 3.4, 1.6, 0.2],\n",
       "        [4.8, 3. , 1.4, 0.1],\n",
       "        [4.3, 3. , 1.1, 0.1],\n",
       "        [5.8, 4. , 1.2, 0.2],\n",
       "        [5.7, 4.4, 1.5, 0.4],\n",
       "        [5.4, 3.9, 1.3, 0.4],\n",
       "        [5.1, 3.5, 1.4, 0.3],\n",
       "        [5.7, 3.8, 1.7, 0.3],\n",
       "        [5.1, 3.8, 1.5, 0.3],\n",
       "        [5.4, 3.4, 1.7, 0.2],\n",
       "        [5.1, 3.7, 1.5, 0.4],\n",
       "        [4.6, 3.6, 1. , 0.2],\n",
       "        [5.1, 3.3, 1.7, 0.5],\n",
       "        [4.8, 3.4, 1.9, 0.2],\n",
       "        [5. , 3. , 1.6, 0.2],\n",
       "        [5. , 3.4, 1.6, 0.4],\n",
       "        [5.2, 3.5, 1.5, 0.2],\n",
       "        [5.2, 3.4, 1.4, 0.2],\n",
       "        [4.7, 3.2, 1.6, 0.2],\n",
       "        [4.8, 3.1, 1.6, 0.2],\n",
       "        [5.4, 3.4, 1.5, 0.4],\n",
       "        [5.2, 4.1, 1.5, 0.1],\n",
       "        [5.5, 4.2, 1.4, 0.2],\n",
       "        [4.9, 3.1, 1.5, 0.2],\n",
       "        [5. , 3.2, 1.2, 0.2],\n",
       "        [5.5, 3.5, 1.3, 0.2],\n",
       "        [4.9, 3.6, 1.4, 0.1],\n",
       "        [4.4, 3. , 1.3, 0.2],\n",
       "        [5.1, 3.4, 1.5, 0.2],\n",
       "        [5. , 3.5, 1.3, 0.3],\n",
       "        [4.5, 2.3, 1.3, 0.3],\n",
       "        [4.4, 3.2, 1.3, 0.2],\n",
       "        [5. , 3.5, 1.6, 0.6],\n",
       "        [5.1, 3.8, 1.9, 0.4],\n",
       "        [4.8, 3. , 1.4, 0.3],\n",
       "        [5.1, 3.8, 1.6, 0.2],\n",
       "        [4.6, 3.2, 1.4, 0.2],\n",
       "        [5.3, 3.7, 1.5, 0.2],\n",
       "        [5. , 3.3, 1.4, 0.2],\n",
       "        [7. , 3.2, 4.7, 1.4],\n",
       "        [6.4, 3.2, 4.5, 1.5],\n",
       "        [6.9, 3.1, 4.9, 1.5],\n",
       "        [5.5, 2.3, 4. , 1.3],\n",
       "        [6.5, 2.8, 4.6, 1.5],\n",
       "        [5.7, 2.8, 4.5, 1.3],\n",
       "        [6.3, 3.3, 4.7, 1.6],\n",
       "        [4.9, 2.4, 3.3, 1. ],\n",
       "        [6.6, 2.9, 4.6, 1.3],\n",
       "        [5.2, 2.7, 3.9, 1.4],\n",
       "        [5. , 2. , 3.5, 1. ],\n",
       "        [5.9, 3. , 4.2, 1.5],\n",
       "        [6. , 2.2, 4. , 1. ],\n",
       "        [6.1, 2.9, 4.7, 1.4],\n",
       "        [5.6, 2.9, 3.6, 1.3],\n",
       "        [6.7, 3.1, 4.4, 1.4],\n",
       "        [5.6, 3. , 4.5, 1.5],\n",
       "        [5.8, 2.7, 4.1, 1. ],\n",
       "        [6.2, 2.2, 4.5, 1.5],\n",
       "        [5.6, 2.5, 3.9, 1.1],\n",
       "        [5.9, 3.2, 4.8, 1.8],\n",
       "        [6.1, 2.8, 4. , 1.3],\n",
       "        [6.3, 2.5, 4.9, 1.5],\n",
       "        [6.1, 2.8, 4.7, 1.2],\n",
       "        [6.4, 2.9, 4.3, 1.3],\n",
       "        [6.6, 3. , 4.4, 1.4],\n",
       "        [6.8, 2.8, 4.8, 1.4],\n",
       "        [6.7, 3. , 5. , 1.7],\n",
       "        [6. , 2.9, 4.5, 1.5],\n",
       "        [5.7, 2.6, 3.5, 1. ],\n",
       "        [5.5, 2.4, 3.8, 1.1],\n",
       "        [5.5, 2.4, 3.7, 1. ],\n",
       "        [5.8, 2.7, 3.9, 1.2],\n",
       "        [6. , 2.7, 5.1, 1.6],\n",
       "        [5.4, 3. , 4.5, 1.5],\n",
       "        [6. , 3.4, 4.5, 1.6],\n",
       "        [6.7, 3.1, 4.7, 1.5],\n",
       "        [6.3, 2.3, 4.4, 1.3],\n",
       "        [5.6, 3. , 4.1, 1.3],\n",
       "        [5.5, 2.5, 4. , 1.3],\n",
       "        [5.5, 2.6, 4.4, 1.2],\n",
       "        [6.1, 3. , 4.6, 1.4],\n",
       "        [5.8, 2.6, 4. , 1.2],\n",
       "        [5. , 2.3, 3.3, 1. ],\n",
       "        [5.6, 2.7, 4.2, 1.3],\n",
       "        [5.7, 3. , 4.2, 1.2],\n",
       "        [5.7, 2.9, 4.2, 1.3],\n",
       "        [6.2, 2.9, 4.3, 1.3],\n",
       "        [5.1, 2.5, 3. , 1.1],\n",
       "        [5.7, 2.8, 4.1, 1.3],\n",
       "        [6.3, 3.3, 6. , 2.5],\n",
       "        [5.8, 2.7, 5.1, 1.9],\n",
       "        [7.1, 3. , 5.9, 2.1],\n",
       "        [6.3, 2.9, 5.6, 1.8],\n",
       "        [6.5, 3. , 5.8, 2.2],\n",
       "        [7.6, 3. , 6.6, 2.1],\n",
       "        [4.9, 2.5, 4.5, 1.7],\n",
       "        [7.3, 2.9, 6.3, 1.8],\n",
       "        [6.7, 2.5, 5.8, 1.8],\n",
       "        [7.2, 3.6, 6.1, 2.5],\n",
       "        [6.5, 3.2, 5.1, 2. ],\n",
       "        [6.4, 2.7, 5.3, 1.9],\n",
       "        [6.8, 3. , 5.5, 2.1],\n",
       "        [5.7, 2.5, 5. , 2. ],\n",
       "        [5.8, 2.8, 5.1, 2.4],\n",
       "        [6.4, 3.2, 5.3, 2.3],\n",
       "        [6.5, 3. , 5.5, 1.8],\n",
       "        [7.7, 3.8, 6.7, 2.2],\n",
       "        [7.7, 2.6, 6.9, 2.3],\n",
       "        [6. , 2.2, 5. , 1.5],\n",
       "        [6.9, 3.2, 5.7, 2.3],\n",
       "        [5.6, 2.8, 4.9, 2. ],\n",
       "        [7.7, 2.8, 6.7, 2. ],\n",
       "        [6.3, 2.7, 4.9, 1.8],\n",
       "        [6.7, 3.3, 5.7, 2.1],\n",
       "        [7.2, 3.2, 6. , 1.8],\n",
       "        [6.2, 2.8, 4.8, 1.8],\n",
       "        [6.1, 3. , 4.9, 1.8],\n",
       "        [6.4, 2.8, 5.6, 2.1],\n",
       "        [7.2, 3. , 5.8, 1.6],\n",
       "        [7.4, 2.8, 6.1, 1.9],\n",
       "        [7.9, 3.8, 6.4, 2. ],\n",
       "        [6.4, 2.8, 5.6, 2.2],\n",
       "        [6.3, 2.8, 5.1, 1.5],\n",
       "        [6.1, 2.6, 5.6, 1.4],\n",
       "        [7.7, 3. , 6.1, 2.3],\n",
       "        [6.3, 3.4, 5.6, 2.4],\n",
       "        [6.4, 3.1, 5.5, 1.8],\n",
       "        [6. , 3. , 4.8, 1.8],\n",
       "        [6.9, 3.1, 5.4, 2.1],\n",
       "        [6.7, 3.1, 5.6, 2.4],\n",
       "        [6.9, 3.1, 5.1, 2.3],\n",
       "        [5.8, 2.7, 5.1, 1.9],\n",
       "        [6.8, 3.2, 5.9, 2.3],\n",
       "        [6.7, 3.3, 5.7, 2.5],\n",
       "        [6.7, 3. , 5.2, 2.3],\n",
       "        [6.3, 2.5, 5. , 1.9],\n",
       "        [6.5, 3. , 5.2, 2. ],\n",
       "        [6.2, 3.4, 5.4, 2.3],\n",
       "        [5.9, 3. , 5.1, 1.8]]),\n",
       " 'target': array([0, 0, 0, 0, 0, 0, 0, 0, 0, 0, 0, 0, 0, 0, 0, 0, 0, 0, 0, 0, 0, 0,\n",
       "        0, 0, 0, 0, 0, 0, 0, 0, 0, 0, 0, 0, 0, 0, 0, 0, 0, 0, 0, 0, 0, 0,\n",
       "        0, 0, 0, 0, 0, 0, 1, 1, 1, 1, 1, 1, 1, 1, 1, 1, 1, 1, 1, 1, 1, 1,\n",
       "        1, 1, 1, 1, 1, 1, 1, 1, 1, 1, 1, 1, 1, 1, 1, 1, 1, 1, 1, 1, 1, 1,\n",
       "        1, 1, 1, 1, 1, 1, 1, 1, 1, 1, 1, 1, 2, 2, 2, 2, 2, 2, 2, 2, 2, 2,\n",
       "        2, 2, 2, 2, 2, 2, 2, 2, 2, 2, 2, 2, 2, 2, 2, 2, 2, 2, 2, 2, 2, 2,\n",
       "        2, 2, 2, 2, 2, 2, 2, 2, 2, 2, 2, 2, 2, 2, 2, 2, 2, 2]),\n",
       " 'frame': None,\n",
       " 'target_names': array(['setosa', 'versicolor', 'virginica'], dtype='<U10'),\n",
       " 'DESCR': '.. _iris_dataset:\\n\\nIris plants dataset\\n--------------------\\n\\n**Data Set Characteristics:**\\n\\n    :Number of Instances: 150 (50 in each of three classes)\\n    :Number of Attributes: 4 numeric, predictive attributes and the class\\n    :Attribute Information:\\n        - sepal length in cm\\n        - sepal width in cm\\n        - petal length in cm\\n        - petal width in cm\\n        - class:\\n                - Iris-Setosa\\n                - Iris-Versicolour\\n                - Iris-Virginica\\n                \\n    :Summary Statistics:\\n\\n    ============== ==== ==== ======= ===== ====================\\n                    Min  Max   Mean    SD   Class Correlation\\n    ============== ==== ==== ======= ===== ====================\\n    sepal length:   4.3  7.9   5.84   0.83    0.7826\\n    sepal width:    2.0  4.4   3.05   0.43   -0.4194\\n    petal length:   1.0  6.9   3.76   1.76    0.9490  (high!)\\n    petal width:    0.1  2.5   1.20   0.76    0.9565  (high!)\\n    ============== ==== ==== ======= ===== ====================\\n\\n    :Missing Attribute Values: None\\n    :Class Distribution: 33.3% for each of 3 classes.\\n    :Creator: R.A. Fisher\\n    :Donor: Michael Marshall (MARSHALL%PLU@io.arc.nasa.gov)\\n    :Date: July, 1988\\n\\nThe famous Iris database, first used by Sir R.A. Fisher. The dataset is taken\\nfrom Fisher\\'s paper. Note that it\\'s the same as in R, but not as in the UCI\\nMachine Learning Repository, which has two wrong data points.\\n\\nThis is perhaps the best known database to be found in the\\npattern recognition literature.  Fisher\\'s paper is a classic in the field and\\nis referenced frequently to this day.  (See Duda & Hart, for example.)  The\\ndata set contains 3 classes of 50 instances each, where each class refers to a\\ntype of iris plant.  One class is linearly separable from the other 2; the\\nlatter are NOT linearly separable from each other.\\n\\n.. topic:: References\\n\\n   - Fisher, R.A. \"The use of multiple measurements in taxonomic problems\"\\n     Annual Eugenics, 7, Part II, 179-188 (1936); also in \"Contributions to\\n     Mathematical Statistics\" (John Wiley, NY, 1950).\\n   - Duda, R.O., & Hart, P.E. (1973) Pattern Classification and Scene Analysis.\\n     (Q327.D83) John Wiley & Sons.  ISBN 0-471-22361-1.  See page 218.\\n   - Dasarathy, B.V. (1980) \"Nosing Around the Neighborhood: A New System\\n     Structure and Classification Rule for Recognition in Partially Exposed\\n     Environments\".  IEEE Transactions on Pattern Analysis and Machine\\n     Intelligence, Vol. PAMI-2, No. 1, 67-71.\\n   - Gates, G.W. (1972) \"The Reduced Nearest Neighbor Rule\".  IEEE Transactions\\n     on Information Theory, May 1972, 431-433.\\n   - See also: 1988 MLC Proceedings, 54-64.  Cheeseman et al\"s AUTOCLASS II\\n     conceptual clustering system finds 3 classes in the data.\\n   - Many, many more ...',\n",
       " 'feature_names': ['sepal length (cm)',\n",
       "  'sepal width (cm)',\n",
       "  'petal length (cm)',\n",
       "  'petal width (cm)'],\n",
       " 'filename': 'iris.csv',\n",
       " 'data_module': 'sklearn.datasets.data'}"
      ]
     },
     "execution_count": 2,
     "metadata": {},
     "output_type": "execute_result"
    }
   ],
   "source": [
    "# load the iris dataset\n",
    "iris = datasets.load_iris()\n",
    "iris"
   ]
  },
  {
   "cell_type": "code",
   "execution_count": 3,
   "id": "5c1f6e21",
   "metadata": {},
   "outputs": [],
   "source": [
    "# Spliting the data set into X and y\n",
    "X = iris.data[:, :2] # we only take the first two features\n",
    "y = iris.target"
   ]
  },
  {
   "cell_type": "code",
   "execution_count": 4,
   "id": "584ce63b",
   "metadata": {},
   "outputs": [],
   "source": [
    "# split the data into train and test sets\n",
    "X_train, X_test, y_train, y_test = train_test_split(X, y, test_size=0.2, random_state=42)"
   ]
  },
  {
   "cell_type": "code",
   "execution_count": 5,
   "id": "98b59334",
   "metadata": {},
   "outputs": [],
   "source": [
    "# initialize the model\n",
    "model = LogisticRegression(solver='lbfgs', multi_class='auto') # solver parameter specifies the algorithm to be used and multi_class parameter us used to specify the type of problem."
   ]
  },
  {
   "cell_type": "code",
   "execution_count": 6,
   "id": "f4a4ccc7",
   "metadata": {},
   "outputs": [
    {
     "data": {
      "text/plain": [
       "LogisticRegression()"
      ]
     },
     "execution_count": 6,
     "metadata": {},
     "output_type": "execute_result"
    }
   ],
   "source": [
    "# train the model\n",
    "model.fit(X_train, y_train)"
   ]
  },
  {
   "cell_type": "code",
   "execution_count": 7,
   "id": "201dc929",
   "metadata": {},
   "outputs": [],
   "source": [
    "# make predictions on the test set\n",
    "y_pred = model.predict(X_test)"
   ]
  },
  {
   "cell_type": "code",
   "execution_count": 8,
   "id": "3aee259e",
   "metadata": {},
   "outputs": [
    {
     "name": "stdout",
     "output_type": "stream",
     "text": [
      "Accuracy: 0.9\n"
     ]
    }
   ],
   "source": [
    "# evaluate the model\n",
    "accuracy = accuracy_score(y_test, y_pred)\n",
    "print(f'Accuracy: {accuracy}')"
   ]
  },
  {
   "cell_type": "markdown",
   "id": "68db67fa",
   "metadata": {},
   "source": [
    "__Advantage of Logistic Regression Algorithm__\n",
    "\n",
    "Logistic Regression has several advantages, including:\n",
    "\n",
    "__Simple and interpretable:__ Logistic regression is a simple and interpretable model that is easy to understand and explain to others. It provides a clear relationship between the input features and the probability of the output belonging to a certain class.\n",
    "\n",
    "__Computationally efficient:__ Logistic regression is a fast and efficient algorithm that can handle large amounts of data. It is also easy to implement in most programming languages, including Python, R, and MATLAB.\n",
    "\n",
    "__Can be regularized to avoid overfitting:__ Logistic regression can be regularized to prevent overfitting by adding a penalty term to the cost function. This can be done by adding L1 or L2 regularization to the model.\n",
    "\n",
    "__Can handle categorical and numerical data:__ Logistic regression can handle both categorical and numerical data, and it can also handle missing data.\n",
    "\n",
    "__Can be used for binary and multi-class classification:__ Logistic regression can be used for both binary and multi-class classification problems. One-vs-all logistic regression can be used for multi-class classification problem.\n",
    "\n",
    "__Good performance on small datasets:__ Logistic Regression is a good algorithm to use when you have small datasets, it can still deliver good performance in those scenarios.\n",
    "\n",
    "__Logistic Regression can be used for online learning:__ Logistic Regression can be updated on the fly as new data arrives and can be used for online learning, which is useful in many scenarios such as spam detection or credit risk analysis.\n",
    "\n",
    "__Logistic Regression is a well-established algorithm:__ Logistic Regression is a well-established algorithm that has been widely used in many fields such as medical research, marketing, and finance."
   ]
  },
  {
   "cell_type": "markdown",
   "id": "b4029f18",
   "metadata": {},
   "source": [
    "__Disadvantage of Logistic Regression Algorithm__\n",
    "\n",
    "Logistic Regression also has some disadvantages, including:\n",
    "\n",
    "__Assumes linearity:__ Logistic regression assumes a linear relationship between the input features and the log-odds of the output. If the relationship is non-linear, the model may not be able to accurately capture the relationship and may not perform well.\n",
    "\n",
    "__Assumes independence between features:__ Logistic regression assumes that the input features are independent of each other. If there are strong relationships or interactions between the features, the model may not be able to accurately capture these relationships and may not perform well.\n",
    "\n",
    "__Sensitive to outliers:__ Logistic regression is sensitive to outliers, and a single outlier in the training data can have a large impact on the model's predictions.\n",
    "\n",
    "__Not suitable for large number of categorical variables:__ Logistic regression is sensitive to categorical variables with a large number of categories, and it may not work well when there is a large number of categorical variables in the input data.\n",
    "\n",
    "__Limited to binary or multi-class classification:__ Logistic regression is primarily used for binary and multi-class classification problems, and it may not be suitable for other types of problems such as regression or clustering.\n",
    "\n",
    "__Logistic Regression requires large sample size:__ Logistic Regression requires a large sample size to get accurate results. The sample size should be at least 10 times greater than the number of independent variables.\n",
    "\n",
    "__Logistic Regression is not suitable for highly non-linear decision boundaries:__ In cases where the decision boundary is highly non-linear, other algorithms such as decision trees, random forests, or support vector machines may be more appropriate.\n",
    "\n",
    "__Logistic Regression is sensitive to irrelevant features:__ Logistic Regression can be sensitive to irrelevant features, which can decrease the performance of the model. It is important to select the relevant features for the model."
   ]
  },
  {
   "cell_type": "markdown",
   "id": "27c86d69",
   "metadata": {},
   "source": [
    "##### Md. Ashiqur Rahman\n",
    "##### Thank You"
   ]
  }
 ],
 "metadata": {
  "kernelspec": {
   "display_name": "Python 3 (ipykernel)",
   "language": "python",
   "name": "python3"
  },
  "language_info": {
   "codemirror_mode": {
    "name": "ipython",
    "version": 3
   },
   "file_extension": ".py",
   "mimetype": "text/x-python",
   "name": "python",
   "nbconvert_exporter": "python",
   "pygments_lexer": "ipython3",
   "version": "3.9.13"
  }
 },
 "nbformat": 4,
 "nbformat_minor": 5
}
