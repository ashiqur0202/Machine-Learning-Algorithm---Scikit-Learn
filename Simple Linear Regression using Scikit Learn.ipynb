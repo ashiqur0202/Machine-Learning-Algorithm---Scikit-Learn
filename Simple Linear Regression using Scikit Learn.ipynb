{
 "cells": [
  {
   "cell_type": "markdown",
   "id": "848f6f59",
   "metadata": {},
   "source": [
    "# Simple Linear Regression using Scikit Learn"
   ]
  },
  {
   "cell_type": "markdown",
   "id": "4fbe1743",
   "metadata": {},
   "source": [
    "__what is Simple Linear Regression and when should you use it?__\n",
    "\n",
    "Simple Linear Regression is a statistical method used to model the relationship between a dependent variable (also called the response variable) and one independent variable (also called the predictor variable). It is used to predict the value of the dependent variable based on the value of the independent variable.\n",
    "\n",
    "The method assumes that there is a linear relationship between the two variables and that the relationship can be described by a straight line. The line is represented by an equation of the form:\n",
    "\n",
    "y = b0 + b1 * x\n",
    "\n",
    "Where:\n",
    "y = dependent variable,\n",
    "x = independent variable,\n",
    "b0 = intercept,\n",
    "b1 = slope of the line\n",
    "\n",
    "The goal of Simple Linear Regression is to find the best-fitting line (i.e., the line that minimizes the difference between the predicted and actual values of the dependent variable) and to use this line to make predictions about future values of the dependent variable.\n",
    "\n",
    "Simple Linear Regression is appropriate when:\n",
    "\n",
    "- The relationship between the dependent and independent variables is linear\n",
    "- There is only one independent variable\n",
    "- The data is continuous and has a normal distribution\n",
    "- There is little or no multicollinearity among the independent variables\n",
    "- It's important to note that Simple Linear Regression is a good start for understanding the relationship between the variables and it can be a powerful tool for exploring the data and identifying potential relationships, but it can be limited when the relationship is not linear, or when there is more than one independent variable."
   ]
  },
  {
   "cell_type": "markdown",
   "id": "0a02571a",
   "metadata": {},
   "source": [
    "__When we shouldn't use Simple Linear Regression Algorithms?__\n",
    "\n",
    "Simple Linear Regression is a powerful tool, but it has its limitations and there are certain situations where it may not be the best choice for modeling the relationship between the variables. Here are a few situations where you should not use Simple Linear Regression:\n",
    "\n",
    "__Non-linear relationship:__ Simple Linear Regression assumes that the relationship between the variables is linear. If the relationship is not linear, using Simple Linear Regression may not provide accurate results.\n",
    "\n",
    "__Multiple independent variables:__ Simple Linear Regression can only handle one independent variable. If you have multiple independent variables that you want to include in your model, you should use Multiple Linear Regression or another more advanced technique.\n",
    "\n",
    "__Categorical independent variable:__ Simple Linear Regression assumes that the independent variable is continuous, but if the independent variable is categorical, you should use a different technique such as logistic regression or ANOVA.\n",
    "\n",
    "__Non-normal distribution:__ Simple Linear Regression assumes that the data follows a normal distribution. If the data is not normally distributed, Simple Linear Regression may not be appropriate.\n",
    "\n",
    "__Outliers:__ Simple Linear Regression is sensitive to outliers. If your data has outliers that might affect the model, it's better to use another technique that is robust to outliers such as robust linear regression or quantile regression.\n",
    "\n",
    "__High multicollinearity:__ Simple Linear Regression assumes that the independent variables are not highly correlated with each other. High multicollinearity can cause problems with interpreting the coefficients and can make the model unstable.\n",
    "\n",
    "It's worth noting that, even though Simple Linear Regression is not appropriate for certain situations, it can still be useful for exploring the data and identifying potential relationships. In those cases, it's better to use it to get a general idea of the data and then move to a more sophisticated model if necessary."
   ]
  },
  {
   "cell_type": "code",
   "execution_count": 1,
   "id": "66ebb44f",
   "metadata": {},
   "outputs": [],
   "source": [
    "# Importing Important Libraries\n",
    "import numpy as np\n",
    "import pandas as pd\n",
    "from sklearn.linear_model import LinearRegression"
   ]
  },
  {
   "cell_type": "code",
   "execution_count": 2,
   "id": "70ceff20",
   "metadata": {},
   "outputs": [],
   "source": [
    "\n",
    "# Create a DataFrame with 50 rows and 2 columns\n",
    "df = pd.DataFrame({'x': np.random.randint(10,100,50),\n",
    "                   'y': np.random.randint(10,100,50)})"
   ]
  },
  {
   "cell_type": "code",
   "execution_count": 3,
   "id": "22d85bf9",
   "metadata": {},
   "outputs": [],
   "source": [
    "\n",
    "# Creating LinearRegression model\n",
    "reg = LinearRegression().fit(df[['x']],df['y'])"
   ]
  },
  {
   "cell_type": "code",
   "execution_count": 4,
   "id": "6a0b6101",
   "metadata": {},
   "outputs": [
    {
     "name": "stdout",
     "output_type": "stream",
     "text": [
      "[-0.10963101]\n"
     ]
    }
   ],
   "source": [
    "# Get the coefficients\n",
    "print(reg.coef_)"
   ]
  },
  {
   "cell_type": "code",
   "execution_count": 5,
   "id": "4a3d3d26",
   "metadata": {},
   "outputs": [
    {
     "name": "stdout",
     "output_type": "stream",
     "text": [
      "58.671980571770085\n"
     ]
    }
   ],
   "source": [
    "# Get the intercept\n",
    "print(reg.intercept_)"
   ]
  },
  {
   "cell_type": "code",
   "execution_count": 6,
   "id": "fe921356",
   "metadata": {},
   "outputs": [
    {
     "name": "stdout",
     "output_type": "stream",
     "text": [
      "[51.54596517]\n"
     ]
    },
    {
     "name": "stderr",
     "output_type": "stream",
     "text": [
      "C:\\Users\\admin\\anaconda3\\lib\\site-packages\\sklearn\\base.py:450: UserWarning: X does not have valid feature names, but LinearRegression was fitted with feature names\n",
      "  warnings.warn(\n"
     ]
    }
   ],
   "source": [
    "# Predict using the model\n",
    "print(reg.predict([[65]]))"
   ]
  },
  {
   "cell_type": "markdown",
   "id": "44f92312",
   "metadata": {},
   "source": [
    "__Advantage of Simple Linear Regression Algorithms?__\n",
    "\n",
    "Simple Linear Regression is a popular and widely used statistical method that has several advantages:\n",
    "\n",
    "__Easy to understand and interpret:__ Simple Linear Regression is a simple and easy to understand model that can provide a clear picture of the relationship between the variables. The coefficients of the model can be interpreted as the change in the dependent variable for a one-unit change in the independent variable, holding all other variables constant.\n",
    "\n",
    "__Fast to compute:__ Simple Linear Regression is a simple model with only one independent variable, it's easy and fast to compute.\n",
    "\n",
    "__Easy to implement:__ Simple Linear Regression can be easily implemented in various programming languages such as R, Python, SAS and others.\n",
    "\n",
    "__Good for Exploratory Data Analysis (EDA):__ Simple Linear Regression can be used to explore the relationship between variables and identify potential relationships. It can be used as a starting point for more advanced models if necessary.\n",
    "\n",
    "__Low variance:__ Simple Linear Regression has a low variance, which means it's less affected by random errors in the data compared to more complex models.\n",
    "\n",
    "__Handling Non-Linearity:__ Simple Linear Regression can be used to model non-linear relationships by transforming the data, such as taking the logarithm of the independent variable.\n",
    "\n",
    "__Handling outliers:__ Simple Linear Regression is less affected by outliers as compared to other models, which can make it a good choice for datasets with outliers.\n",
    "\n",
    "__Good for small datasets:__ Simple Linear Regression is a good choice for small datasets, as it does not require a large sample size to produce accurate results.\n",
    "\n",
    "It's worth noting that, even though Simple Linear Regression has several advantages, it has its limitations and it's important to consider these limitations when choosing the appropriate model."
   ]
  },
  {
   "cell_type": "markdown",
   "id": "7c5a4c07",
   "metadata": {},
   "source": [
    "__Disadvantage of Simple Linear Regression Algorithms?__\n",
    "\n",
    "Simple Linear Regression is a popular and widely used statistical method, but it also has several disadvantages:\n",
    "\n",
    "__Assumes a linear relationship:__ Simple Linear Regression assumes that the relationship between the variables is linear. If the relationship is not linear, Simple Linear Regression may not provide accurate results.\n",
    "\n",
    "__Only one independent variable:__ Simple Linear Regression can only handle one independent variable. If you have multiple independent variables that you want to include in your model, you should use Multiple Linear Regression or another more advanced technique.\n",
    "\n",
    "__Sensitive to outliers:__ Simple Linear Regression is sensitive to outliers, which can affect the model's accuracy.\n",
    "\n",
    "__Assumes normality:__ Simple Linear Regression assumes that the data follows a normal distribution. If the data is not normally distributed, Simple Linear Regression may not be appropriate.\n",
    "\n",
    "__Assumes independence of errors:__ Simple Linear Regression assumes that the errors are independent, which may not be the case in certain situations.\n",
    "\n",
    "__Assumes homoscedasticity:__ Simple Linear Regression assumes that the variance of the errors is constant, which may not be the case in certain situations.\n",
    "\n",
    "__High bias:__ Simple Linear Regression has high bias, which means that it may not capture all the information in the data and may not perform well on unseen data.\n",
    "\n",
    "__Limited ability to handle multicollinearity:__ Simple Linear Regression assumes that the independent variables are not highly correlated with each other. High multicollinearity can cause problems with interpreting the coefficients and can make the model unstable.\n",
    "\n",
    "It's worth noting that, even though Simple Linear Regression has several disadvantages, it can still be useful for exploring the data and identifying potential relationships. In those cases, it's better to use it to get a general idea of the data and then move to a more sophisticated model if necessary."
   ]
  },
  {
   "cell_type": "markdown",
   "id": "02dc2b99",
   "metadata": {},
   "source": [
    "##### Md. Ashiqur Rahman\n",
    "##### Thank You"
   ]
  }
 ],
 "metadata": {
  "kernelspec": {
   "display_name": "Python 3 (ipykernel)",
   "language": "python",
   "name": "python3"
  },
  "language_info": {
   "codemirror_mode": {
    "name": "ipython",
    "version": 3
   },
   "file_extension": ".py",
   "mimetype": "text/x-python",
   "name": "python",
   "nbconvert_exporter": "python",
   "pygments_lexer": "ipython3",
   "version": "3.9.13"
  }
 },
 "nbformat": 4,
 "nbformat_minor": 5
}
